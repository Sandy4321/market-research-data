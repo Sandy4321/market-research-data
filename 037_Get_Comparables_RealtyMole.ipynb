{
  "nbformat": 4,
  "nbformat_minor": 0,
  "metadata": {
    "colab": {
      "name": "037 - Get Comparables - RealtyMole.ipynb",
      "provenance": [],
      "authorship_tag": "ABX9TyOIBP71JYKgozrq/ru5TR3L",
      "include_colab_link": true
    },
    "kernelspec": {
      "name": "python3",
      "display_name": "Python 3"
    }
  },
  "cells": [
    {
      "cell_type": "markdown",
      "metadata": {
        "id": "view-in-github",
        "colab_type": "text"
      },
      "source": [
        "<a href=\"https://colab.research.google.com/github/analyticsariel/market-research-data/blob/main/037_Get_Comparables_RealtyMole.ipynb\" target=\"_parent\"><img src=\"https://colab.research.google.com/assets/colab-badge.svg\" alt=\"Open In Colab\"/></a>"
      ]
    },
    {
      "cell_type": "markdown",
      "metadata": {
        "id": "lN6qE2aI-GVa"
      },
      "source": [
        "## Steps\n",
        "### Get Keys\n",
        "1) Get Free [Rapid API Key by creating an account](https://rapidapi.com/marketplace)\n",
        "\n",
        "Store each key in a central and private location.\n",
        "\n",
        "### Suscribe to APIs\n",
        "\n",
        "1) Suscribe to [Realty Mole on Rapid API](https://rapidapi.com/realtymole/api/realty-mole-property-api/endpoints)"
      ]
    },
    {
      "cell_type": "markdown",
      "metadata": {
        "id": "K9zplVol59rV"
      },
      "source": [
        "## <font color=\"blue\">Imports</font>"
      ]
    },
    {
      "cell_type": "code",
      "metadata": {
        "id": "dQCzRiMo59He"
      },
      "source": [
        "# working with files\n",
        "from google.colab import drive, files\n",
        "# api post/get\n",
        "import requests\n",
        "from bs4 import BeautifulSoup\n",
        "# data manipulation\n",
        "import json\n",
        "import pandas as pd\n",
        "import numpy as np\n",
        "# plotting\n",
        "import plotly.express as px"
      ],
      "execution_count": null,
      "outputs": []
    },
    {
      "cell_type": "markdown",
      "metadata": {
        "id": "LUKcN5hJ9sFE"
      },
      "source": [
        "## <font color=\"blue\">Functions</font>"
      ]
    },
    {
      "cell_type": "markdown",
      "metadata": {
        "id": "jY0jpUMUomf1"
      },
      "source": [
        "### Realty Mole"
      ]
    },
    {
      "cell_type": "code",
      "metadata": {
        "id": "DUC_xHLZoit4"
      },
      "source": [
        "def realty_mole_sale_price(rapid_api_key,\n",
        "                           street,\n",
        "                           city,\n",
        "                           state,\n",
        "                           squareFootage=None,\n",
        "                           bathrooms=None,\n",
        "                           bedrooms=None,\n",
        "                           propertyType=None,\n",
        "                           comp_count=5):\n",
        "    \"\"\"\n",
        "    This endpoint retrieves the property's \n",
        "    sales price estimate by a comp analysis from Realty Mole's.\n",
        "    \n",
        "    The Find Property API Web Service is located at: \n",
        "    https://rapidapi.com/realtymole/api/realty-mole-property-api/endpoints\n",
        "\n",
        "    Parameters\n",
        "    ----------\n",
        "    @rapid_api_key [string]: Key to access data from Rapid API\n",
        "    @address [string]: The address of the property to search\n",
        "    @city [string]: The city of the property to search\n",
        "    @state [string]: The state of the property to search\n",
        "    @squareFootage [string]: The square footage of the property to search\n",
        "    @bathrooms [string]: The bathrooms of the property to search\n",
        "    @comp_count [string]: The number of comparable properties to evaluate sales price\n",
        "\n",
        "    Returns\n",
        "    -------\n",
        "    [json] API response\n",
        "\n",
        "    \"\"\"\n",
        "    # get address\n",
        "    address = \"{0}, {1}, {2}\".format(str(street), \n",
        "                                     str(city), \n",
        "                                     str(state))\n",
        "    \n",
        "    # api url\n",
        "    url = \"https://realty-mole-property-api.p.rapidapi.com/salePrice\"\n",
        "\n",
        "    # payload\n",
        "    querystring = {\"compCount\":str(comp_count),\n",
        "                   \"address\":address,\n",
        "                   \"squareFootage\":squareFootage,\n",
        "                   \"bathrooms\":bathrooms,\n",
        "                   \"bedrooms\":bedrooms,\n",
        "                   \"propertyType\":propertyType}\n",
        "\n",
        "    # header\n",
        "    headers = {\n",
        "        'x-rapidapi-key': rapid_api_key,\n",
        "        'x-rapidapi-host': \"realty-mole-property-api.p.rapidapi.com\"\n",
        "        }\n",
        "\n",
        "    # response\n",
        "    response = requests.request(\"GET\", url, headers=headers, params=querystring)\n",
        "    \n",
        "    # check if there is an error on the request\n",
        "    if response.status_code == 200: # no error\n",
        "        return response\n",
        "    else:\n",
        "        return \"\"\"Error {0}. See API source documentation for message and error code - https://rapidapi.com/realtymole/api/realty-mole-property-api/endpoints\"\"\"\\\n",
        "        .format(response.status_code)"
      ],
      "execution_count": null,
      "outputs": []
    },
    {
      "cell_type": "markdown",
      "metadata": {
        "id": "Ko430xMx58T5"
      },
      "source": [
        "## <font color=\"blue\">Local & Constants</font>"
      ]
    },
    {
      "cell_type": "code",
      "metadata": {
        "id": "KCYCahU848DE",
        "colab": {
          "base_uri": "https://localhost:8080/"
        },
        "outputId": "75a7ae81-f881-4712-8d5d-8528042ee6e3"
      },
      "source": [
        "# mount drive\n",
        "drive.mount('/content/drive', force_remount=False)\n",
        "\n",
        "# data location\n",
        "file_dir = '/content/drive/My Drive/Colab Data/input/'"
      ],
      "execution_count": null,
      "outputs": [
        {
          "output_type": "stream",
          "text": [
            "Mounted at /content/drive\n"
          ],
          "name": "stdout"
        }
      ]
    },
    {
      "cell_type": "markdown",
      "metadata": {
        "id": "H4Py4JSB6UrT"
      },
      "source": [
        "## <font color=\"blue\">Data</font>"
      ]
    },
    {
      "cell_type": "markdown",
      "metadata": {
        "id": "Q9huhtw0_mQ9"
      },
      "source": [
        "### Get API Keys"
      ]
    },
    {
      "cell_type": "code",
      "metadata": {
        "id": "SsJGIj3h6S3g"
      },
      "source": [
        "# read in api key file\n",
        "df_api_keys = pd.read_csv(file_dir + 'api_keys.csv')\n",
        "\n",
        "# get keys\n",
        "rapid_api_key = df_api_keys.loc[df_api_keys['API'] =='rapid']['KEY'].iloc[0] # replace this with your own key\n",
        "mapbox_key = df_api_keys.loc[df_api_keys['API'] =='mapbox']['KEY'].iloc[0] # replace this with your own key"
      ],
      "execution_count": null,
      "outputs": []
    },
    {
      "cell_type": "markdown",
      "metadata": {
        "id": "uWPyDdl6_f0q"
      },
      "source": [
        "## <font color=\"blue\">Test Address</font>\n",
        "[122 George St, South Amboy, NJ 08879](https://www.zillow.com/homedetails/122-George-St-South-Amboy-NJ-08879/39166231_zpid/)"
      ]
    },
    {
      "cell_type": "code",
      "metadata": {
        "id": "6TUrfkg8_e0u"
      },
      "source": [
        "street = \"728 June Lake Ln\"\n",
        "city = \"Brandon\"\n",
        "state = \"FL\"\n",
        "zip_code = \"33510\""
      ],
      "execution_count": null,
      "outputs": []
    },
    {
      "cell_type": "markdown",
      "metadata": {
        "id": "2ftZK54F7Pa5"
      },
      "source": [
        "## <font color=\"green\">Realty Mole Comparables</font>\n",
        "<font color=\"gray\">*Search Realty Mole comparables*</font>\n",
        "\n",
        "[Rapid API - Realty Mole Endpoints](https://rapidapi.com/realtymole/api/realty-mole-property-api/endpoints)\n",
        "\n",
        "[Realty Mole Website](https://www.realtymole.com/home)"
      ]
    },
    {
      "cell_type": "code",
      "metadata": {
        "id": "jxO0tbB07RTo"
      },
      "source": [
        "# get api response\n",
        "realty_mole_sales_response = realty_mole_sale_price(rapid_api_key=rapid_api_key,\n",
        "                                                    street=street,\n",
        "                                                    city=city,\n",
        "                                                    state=state,\n",
        "                                                    propertyType=\"Single Family\",\n",
        "                                                    comp_count=5)"
      ],
      "execution_count": null,
      "outputs": []
    },
    {
      "cell_type": "code",
      "metadata": {
        "colab": {
          "base_uri": "https://localhost:8080/"
        },
        "id": "v9UuUwqhZp_e",
        "outputId": "b229c6cd-f671-41a4-bf9c-035125470394"
      },
      "source": [
        "realty_mole_sales_response.json()"
      ],
      "execution_count": null,
      "outputs": [
        {
          "output_type": "execute_result",
          "data": {
            "text/plain": [
              "{'latitude': 27.9581312,\n",
              " 'listings': [{'address': '727 June Lake Ln',\n",
              "   'bathrooms': 2,\n",
              "   'bedrooms': 4,\n",
              "   'city': 'Brandon',\n",
              "   'correlation': 0.998,\n",
              "   'county': 'Hillsborough County',\n",
              "   'daysOld': 12.33,\n",
              "   'distance': 0.05431986622029869,\n",
              "   'formattedAddress': '727 June Lake Ln, Brandon, FL 33510',\n",
              "   'id': '727-June-Lake-Ln,-Brandon,-FL-33510',\n",
              "   'latitude': 27.958617,\n",
              "   'longitude': -82.296714,\n",
              "   'price': 355000,\n",
              "   'propertyType': 'Single Family',\n",
              "   'publishedDate': '2021-03-06T14:43:18.467Z',\n",
              "   'squareFootage': 2307,\n",
              "   'state': 'FL',\n",
              "   'zipcode': '33510'},\n",
              "  {'address': '610 June Lake Ln',\n",
              "   'bathrooms': 2,\n",
              "   'bedrooms': 3,\n",
              "   'city': 'Brandon',\n",
              "   'correlation': 0.9942,\n",
              "   'county': 'Hillsborough County',\n",
              "   'daysOld': 80.26,\n",
              "   'distance': 0.14998801188978036,\n",
              "   'formattedAddress': '610 June Lake Ln, Brandon, FL 33510',\n",
              "   'id': '610-June-Lake-Ln,-Brandon,-FL-33510',\n",
              "   'latitude': 27.959437,\n",
              "   'longitude': -82.297038,\n",
              "   'price': 319700,\n",
              "   'propertyType': 'Single Family',\n",
              "   'publishedDate': '2020-12-28T16:18:33.023Z',\n",
              "   'squareFootage': 2137,\n",
              "   'state': 'FL',\n",
              "   'zipcode': '33510'},\n",
              "  {'address': '819 Windsor Cir',\n",
              "   'bathrooms': 2,\n",
              "   'bedrooms': 3,\n",
              "   'city': 'Brandon',\n",
              "   'correlation': 0.9915,\n",
              "   'county': 'Hillsborough County',\n",
              "   'daysOld': 126.27,\n",
              "   'distance': 0.21872836551818886,\n",
              "   'formattedAddress': '819 Windsor Cir, Brandon, FL 33510',\n",
              "   'id': '819-Windsor-Cir,-Brandon,-FL-33510',\n",
              "   'latitude': 27.958021,\n",
              "   'longitude': -82.298883,\n",
              "   'price': 220000,\n",
              "   'propertyType': 'Single Family',\n",
              "   'publishedDate': '2020-11-12T16:01:07.444Z',\n",
              "   'squareFootage': 1485,\n",
              "   'state': 'FL',\n",
              "   'zipcode': '33510'},\n",
              "  {'address': '1207 Windy Hill Dr',\n",
              "   'bathrooms': 2,\n",
              "   'bedrooms': 4,\n",
              "   'city': 'Brandon',\n",
              "   'correlation': 0.9911,\n",
              "   'county': 'Hillsborough County',\n",
              "   'daysOld': 12.34,\n",
              "   'distance': 0.25396902103569624,\n",
              "   'formattedAddress': '1207 Windy Hill Dr, Brandon, FL 33510',\n",
              "   'id': '1207-Windy-Hill-Dr,-Brandon,-FL-33510',\n",
              "   'latitude': 27.959028,\n",
              "   'longitude': -82.299037,\n",
              "   'price': 299900,\n",
              "   'propertyType': 'Single Family',\n",
              "   'publishedDate': '2021-03-06T14:28:13.598Z',\n",
              "   'squareFootage': 1849,\n",
              "   'state': 'FL',\n",
              "   'zipcode': '33510'},\n",
              "  {'address': '1203 Windsor Cir',\n",
              "   'bathrooms': 2,\n",
              "   'bedrooms': 3,\n",
              "   'city': 'Brandon',\n",
              "   'correlation': 0.9866,\n",
              "   'county': 'Hillsborough County',\n",
              "   'daysOld': 96.34,\n",
              "   'distance': 0.3670517698398807,\n",
              "   'formattedAddress': '1203 Windsor Cir, Brandon, FL 33510',\n",
              "   'id': '1203-Windsor-Cir,-Brandon,-FL-33510',\n",
              "   'latitude': 27.958024,\n",
              "   'longitude': -82.300393,\n",
              "   'price': 237900,\n",
              "   'propertyType': 'Single Family',\n",
              "   'publishedDate': '2020-12-12T14:18:50.017Z',\n",
              "   'squareFootage': 1400,\n",
              "   'state': 'FL',\n",
              "   'zipcode': '33510'}],\n",
              " 'longitude': -82.296662,\n",
              " 'price': 286500,\n",
              " 'priceRangeHigh': 332612.65,\n",
              " 'priceRangeLow': 240387.35}"
            ]
          },
          "metadata": {
            "tags": []
          },
          "execution_count": 8
        }
      ]
    },
    {
      "cell_type": "code",
      "metadata": {
        "id": "NqTkxoB67RRo",
        "colab": {
          "base_uri": "https://localhost:8080/",
          "height": 340
        },
        "outputId": "99f25c8c-8fbc-4002-88a6-f1bb965361a9"
      },
      "source": [
        "# transform to dataframe\n",
        "df_realty_comps = pd.DataFrame(realty_mole_sales_response.json()['listings'])\n",
        "# view contents\n",
        "df_realty_comps"
      ],
      "execution_count": null,
      "outputs": [
        {
          "output_type": "execute_result",
          "data": {
            "text/html": [
              "<div>\n",
              "<style scoped>\n",
              "    .dataframe tbody tr th:only-of-type {\n",
              "        vertical-align: middle;\n",
              "    }\n",
              "\n",
              "    .dataframe tbody tr th {\n",
              "        vertical-align: top;\n",
              "    }\n",
              "\n",
              "    .dataframe thead th {\n",
              "        text-align: right;\n",
              "    }\n",
              "</style>\n",
              "<table border=\"1\" class=\"dataframe\">\n",
              "  <thead>\n",
              "    <tr style=\"text-align: right;\">\n",
              "      <th></th>\n",
              "      <th>id</th>\n",
              "      <th>formattedAddress</th>\n",
              "      <th>longitude</th>\n",
              "      <th>latitude</th>\n",
              "      <th>city</th>\n",
              "      <th>state</th>\n",
              "      <th>zipcode</th>\n",
              "      <th>price</th>\n",
              "      <th>publishedDate</th>\n",
              "      <th>distance</th>\n",
              "      <th>daysOld</th>\n",
              "      <th>correlation</th>\n",
              "      <th>address</th>\n",
              "      <th>county</th>\n",
              "      <th>bedrooms</th>\n",
              "      <th>bathrooms</th>\n",
              "      <th>propertyType</th>\n",
              "      <th>squareFootage</th>\n",
              "    </tr>\n",
              "  </thead>\n",
              "  <tbody>\n",
              "    <tr>\n",
              "      <th>0</th>\n",
              "      <td>727-June-Lake-Ln,-Brandon,-FL-33510</td>\n",
              "      <td>727 June Lake Ln, Brandon, FL 33510</td>\n",
              "      <td>-82.296714</td>\n",
              "      <td>27.958617</td>\n",
              "      <td>Brandon</td>\n",
              "      <td>FL</td>\n",
              "      <td>33510</td>\n",
              "      <td>355000</td>\n",
              "      <td>2021-03-06T14:43:18.467Z</td>\n",
              "      <td>0.054320</td>\n",
              "      <td>12.33</td>\n",
              "      <td>0.9980</td>\n",
              "      <td>727 June Lake Ln</td>\n",
              "      <td>Hillsborough County</td>\n",
              "      <td>4</td>\n",
              "      <td>2</td>\n",
              "      <td>Single Family</td>\n",
              "      <td>2307</td>\n",
              "    </tr>\n",
              "    <tr>\n",
              "      <th>1</th>\n",
              "      <td>610-June-Lake-Ln,-Brandon,-FL-33510</td>\n",
              "      <td>610 June Lake Ln, Brandon, FL 33510</td>\n",
              "      <td>-82.297038</td>\n",
              "      <td>27.959437</td>\n",
              "      <td>Brandon</td>\n",
              "      <td>FL</td>\n",
              "      <td>33510</td>\n",
              "      <td>319700</td>\n",
              "      <td>2020-12-28T16:18:33.023Z</td>\n",
              "      <td>0.149988</td>\n",
              "      <td>80.26</td>\n",
              "      <td>0.9942</td>\n",
              "      <td>610 June Lake Ln</td>\n",
              "      <td>Hillsborough County</td>\n",
              "      <td>3</td>\n",
              "      <td>2</td>\n",
              "      <td>Single Family</td>\n",
              "      <td>2137</td>\n",
              "    </tr>\n",
              "    <tr>\n",
              "      <th>2</th>\n",
              "      <td>819-Windsor-Cir,-Brandon,-FL-33510</td>\n",
              "      <td>819 Windsor Cir, Brandon, FL 33510</td>\n",
              "      <td>-82.298883</td>\n",
              "      <td>27.958021</td>\n",
              "      <td>Brandon</td>\n",
              "      <td>FL</td>\n",
              "      <td>33510</td>\n",
              "      <td>220000</td>\n",
              "      <td>2020-11-12T16:01:07.444Z</td>\n",
              "      <td>0.218728</td>\n",
              "      <td>126.27</td>\n",
              "      <td>0.9915</td>\n",
              "      <td>819 Windsor Cir</td>\n",
              "      <td>Hillsborough County</td>\n",
              "      <td>3</td>\n",
              "      <td>2</td>\n",
              "      <td>Single Family</td>\n",
              "      <td>1485</td>\n",
              "    </tr>\n",
              "    <tr>\n",
              "      <th>3</th>\n",
              "      <td>1207-Windy-Hill-Dr,-Brandon,-FL-33510</td>\n",
              "      <td>1207 Windy Hill Dr, Brandon, FL 33510</td>\n",
              "      <td>-82.299037</td>\n",
              "      <td>27.959028</td>\n",
              "      <td>Brandon</td>\n",
              "      <td>FL</td>\n",
              "      <td>33510</td>\n",
              "      <td>299900</td>\n",
              "      <td>2021-03-06T14:28:13.598Z</td>\n",
              "      <td>0.253969</td>\n",
              "      <td>12.34</td>\n",
              "      <td>0.9911</td>\n",
              "      <td>1207 Windy Hill Dr</td>\n",
              "      <td>Hillsborough County</td>\n",
              "      <td>4</td>\n",
              "      <td>2</td>\n",
              "      <td>Single Family</td>\n",
              "      <td>1849</td>\n",
              "    </tr>\n",
              "    <tr>\n",
              "      <th>4</th>\n",
              "      <td>1203-Windsor-Cir,-Brandon,-FL-33510</td>\n",
              "      <td>1203 Windsor Cir, Brandon, FL 33510</td>\n",
              "      <td>-82.300393</td>\n",
              "      <td>27.958024</td>\n",
              "      <td>Brandon</td>\n",
              "      <td>FL</td>\n",
              "      <td>33510</td>\n",
              "      <td>237900</td>\n",
              "      <td>2020-12-12T14:18:50.017Z</td>\n",
              "      <td>0.367052</td>\n",
              "      <td>96.34</td>\n",
              "      <td>0.9866</td>\n",
              "      <td>1203 Windsor Cir</td>\n",
              "      <td>Hillsborough County</td>\n",
              "      <td>3</td>\n",
              "      <td>2</td>\n",
              "      <td>Single Family</td>\n",
              "      <td>1400</td>\n",
              "    </tr>\n",
              "  </tbody>\n",
              "</table>\n",
              "</div>"
            ],
            "text/plain": [
              "                                      id  ... squareFootage\n",
              "0    727-June-Lake-Ln,-Brandon,-FL-33510  ...          2307\n",
              "1    610-June-Lake-Ln,-Brandon,-FL-33510  ...          2137\n",
              "2     819-Windsor-Cir,-Brandon,-FL-33510  ...          1485\n",
              "3  1207-Windy-Hill-Dr,-Brandon,-FL-33510  ...          1849\n",
              "4    1203-Windsor-Cir,-Brandon,-FL-33510  ...          1400\n",
              "\n",
              "[5 rows x 18 columns]"
            ]
          },
          "metadata": {
            "tags": []
          },
          "execution_count": 10
        }
      ]
    },
    {
      "cell_type": "code",
      "metadata": {
        "colab": {
          "base_uri": "https://localhost:8080/",
          "height": 542
        },
        "id": "IuFLetZuq9c2",
        "outputId": "41d87fce-20bf-4e6f-f106-78f902b2a104"
      },
      "source": [
        "# view in chart\n",
        "px.set_mapbox_access_token(mapbox_key)\n",
        "fig = px.scatter_mapbox(df_realty_comps, \n",
        "                        lat=\"latitude\", \n",
        "                        lon=\"longitude\",     \n",
        "                        color=\"address\", \n",
        "                        color_continuous_scale=px.colors.cyclical.IceFire, \n",
        "                        size_max=30, \n",
        "                        zoom=15,\n",
        "                        title=\"Comparables for {0}\".format(street))\n",
        "fig.show()"
      ],
      "execution_count": null,
      "outputs": [
        {
          "output_type": "display_data",
          "data": {
            "text/html": [
              "<html>\n",
              "<head><meta charset=\"utf-8\" /></head>\n",
              "<body>\n",
              "    <div>\n",
              "            <script src=\"https://cdnjs.cloudflare.com/ajax/libs/mathjax/2.7.5/MathJax.js?config=TeX-AMS-MML_SVG\"></script><script type=\"text/javascript\">if (window.MathJax) {MathJax.Hub.Config({SVG: {font: \"STIX-Web\"}});}</script>\n",
              "                <script type=\"text/javascript\">window.PlotlyConfig = {MathJaxConfig: 'local'};</script>\n",
              "        <script src=\"https://cdn.plot.ly/plotly-latest.min.js\"></script>    \n",
              "            <div id=\"b21348f1-af3e-4b74-85c2-204c90401ecd\" class=\"plotly-graph-div\" style=\"height:525px; width:100%;\"></div>\n",
              "            <script type=\"text/javascript\">\n",
              "                \n",
              "                    window.PLOTLYENV=window.PLOTLYENV || {};\n",
              "                    \n",
              "                if (document.getElementById(\"b21348f1-af3e-4b74-85c2-204c90401ecd\")) {\n",
              "                    Plotly.newPlot(\n",
              "                        'b21348f1-af3e-4b74-85c2-204c90401ecd',\n",
              "                        [{\"hoverlabel\": {\"namelength\": 0}, \"hovertemplate\": \"address=727 June Lake Ln<br>latitude=%{lat}<br>longitude=%{lon}\", \"lat\": [27.958617], \"legendgroup\": \"address=727 June Lake Ln\", \"lon\": [-82.296714], \"marker\": {\"color\": \"#636efa\"}, \"mode\": \"markers\", \"name\": \"address=727 June Lake Ln\", \"showlegend\": true, \"subplot\": \"mapbox\", \"type\": \"scattermapbox\"}, {\"hoverlabel\": {\"namelength\": 0}, \"hovertemplate\": \"address=610 June Lake Ln<br>latitude=%{lat}<br>longitude=%{lon}\", \"lat\": [27.959437], \"legendgroup\": \"address=610 June Lake Ln\", \"lon\": [-82.297038], \"marker\": {\"color\": \"#EF553B\"}, \"mode\": \"markers\", \"name\": \"address=610 June Lake Ln\", \"showlegend\": true, \"subplot\": \"mapbox\", \"type\": \"scattermapbox\"}, {\"hoverlabel\": {\"namelength\": 0}, \"hovertemplate\": \"address=819 Windsor Cir<br>latitude=%{lat}<br>longitude=%{lon}\", \"lat\": [27.958021], \"legendgroup\": \"address=819 Windsor Cir\", \"lon\": [-82.298883], \"marker\": {\"color\": \"#00cc96\"}, \"mode\": \"markers\", \"name\": \"address=819 Windsor Cir\", \"showlegend\": true, \"subplot\": \"mapbox\", \"type\": \"scattermapbox\"}, {\"hoverlabel\": {\"namelength\": 0}, \"hovertemplate\": \"address=1207 Windy Hill Dr<br>latitude=%{lat}<br>longitude=%{lon}\", \"lat\": [27.959028], \"legendgroup\": \"address=1207 Windy Hill Dr\", \"lon\": [-82.299037], \"marker\": {\"color\": \"#ab63fa\"}, \"mode\": \"markers\", \"name\": \"address=1207 Windy Hill Dr\", \"showlegend\": true, \"subplot\": \"mapbox\", \"type\": \"scattermapbox\"}, {\"hoverlabel\": {\"namelength\": 0}, \"hovertemplate\": \"address=1203 Windsor Cir<br>latitude=%{lat}<br>longitude=%{lon}\", \"lat\": [27.958024], \"legendgroup\": \"address=1203 Windsor Cir\", \"lon\": [-82.300393], \"marker\": {\"color\": \"#FFA15A\"}, \"mode\": \"markers\", \"name\": \"address=1203 Windsor Cir\", \"showlegend\": true, \"subplot\": \"mapbox\", \"type\": \"scattermapbox\"}],\n",
              "                        {\"legend\": {\"tracegroupgap\": 0}, \"mapbox\": {\"accesstoken\": \"pk.eyJ1IjoiaGVycmVyYS11cy1yZWkiLCJhIjoiY2pyejJtd3kxMTRvcDQ0bHZiM3BzdWVkMCJ9.bo7U4hgixCPZwdIyPeRqiA\", \"center\": {\"lat\": 27.9586254, \"lon\": -82.298413}, \"domain\": {\"x\": [0.0, 1.0], \"y\": [0.0, 1.0]}, \"zoom\": 15}, \"template\": {\"data\": {\"bar\": [{\"error_x\": {\"color\": \"#2a3f5f\"}, \"error_y\": {\"color\": \"#2a3f5f\"}, \"marker\": {\"line\": {\"color\": \"#E5ECF6\", \"width\": 0.5}}, \"type\": \"bar\"}], \"barpolar\": [{\"marker\": {\"line\": {\"color\": \"#E5ECF6\", \"width\": 0.5}}, \"type\": \"barpolar\"}], \"carpet\": [{\"aaxis\": {\"endlinecolor\": \"#2a3f5f\", \"gridcolor\": \"white\", \"linecolor\": \"white\", \"minorgridcolor\": \"white\", \"startlinecolor\": \"#2a3f5f\"}, \"baxis\": {\"endlinecolor\": \"#2a3f5f\", \"gridcolor\": \"white\", \"linecolor\": \"white\", \"minorgridcolor\": \"white\", \"startlinecolor\": \"#2a3f5f\"}, \"type\": \"carpet\"}], \"choropleth\": [{\"colorbar\": {\"outlinewidth\": 0, \"ticks\": \"\"}, \"type\": \"choropleth\"}], \"contour\": [{\"colorbar\": {\"outlinewidth\": 0, \"ticks\": \"\"}, \"colorscale\": [[0.0, \"#0d0887\"], [0.1111111111111111, \"#46039f\"], [0.2222222222222222, \"#7201a8\"], [0.3333333333333333, \"#9c179e\"], [0.4444444444444444, \"#bd3786\"], [0.5555555555555556, \"#d8576b\"], [0.6666666666666666, \"#ed7953\"], [0.7777777777777778, \"#fb9f3a\"], [0.8888888888888888, \"#fdca26\"], [1.0, \"#f0f921\"]], \"type\": \"contour\"}], \"contourcarpet\": [{\"colorbar\": {\"outlinewidth\": 0, \"ticks\": \"\"}, \"type\": \"contourcarpet\"}], \"heatmap\": [{\"colorbar\": {\"outlinewidth\": 0, \"ticks\": \"\"}, \"colorscale\": [[0.0, \"#0d0887\"], [0.1111111111111111, \"#46039f\"], [0.2222222222222222, \"#7201a8\"], [0.3333333333333333, \"#9c179e\"], [0.4444444444444444, \"#bd3786\"], [0.5555555555555556, \"#d8576b\"], [0.6666666666666666, \"#ed7953\"], [0.7777777777777778, \"#fb9f3a\"], [0.8888888888888888, \"#fdca26\"], [1.0, \"#f0f921\"]], \"type\": \"heatmap\"}], \"heatmapgl\": [{\"colorbar\": {\"outlinewidth\": 0, \"ticks\": \"\"}, \"colorscale\": [[0.0, \"#0d0887\"], [0.1111111111111111, \"#46039f\"], [0.2222222222222222, \"#7201a8\"], [0.3333333333333333, \"#9c179e\"], [0.4444444444444444, \"#bd3786\"], [0.5555555555555556, \"#d8576b\"], [0.6666666666666666, \"#ed7953\"], [0.7777777777777778, \"#fb9f3a\"], [0.8888888888888888, \"#fdca26\"], [1.0, \"#f0f921\"]], \"type\": \"heatmapgl\"}], \"histogram\": [{\"marker\": {\"colorbar\": {\"outlinewidth\": 0, \"ticks\": \"\"}}, \"type\": \"histogram\"}], \"histogram2d\": [{\"colorbar\": {\"outlinewidth\": 0, \"ticks\": \"\"}, \"colorscale\": [[0.0, \"#0d0887\"], [0.1111111111111111, \"#46039f\"], [0.2222222222222222, \"#7201a8\"], [0.3333333333333333, \"#9c179e\"], [0.4444444444444444, \"#bd3786\"], [0.5555555555555556, \"#d8576b\"], [0.6666666666666666, \"#ed7953\"], [0.7777777777777778, \"#fb9f3a\"], [0.8888888888888888, \"#fdca26\"], [1.0, \"#f0f921\"]], \"type\": \"histogram2d\"}], \"histogram2dcontour\": [{\"colorbar\": {\"outlinewidth\": 0, \"ticks\": \"\"}, \"colorscale\": [[0.0, \"#0d0887\"], [0.1111111111111111, \"#46039f\"], [0.2222222222222222, \"#7201a8\"], [0.3333333333333333, \"#9c179e\"], [0.4444444444444444, \"#bd3786\"], [0.5555555555555556, \"#d8576b\"], [0.6666666666666666, \"#ed7953\"], [0.7777777777777778, \"#fb9f3a\"], [0.8888888888888888, \"#fdca26\"], [1.0, \"#f0f921\"]], \"type\": \"histogram2dcontour\"}], \"mesh3d\": [{\"colorbar\": {\"outlinewidth\": 0, \"ticks\": \"\"}, \"type\": \"mesh3d\"}], \"parcoords\": [{\"line\": {\"colorbar\": {\"outlinewidth\": 0, \"ticks\": \"\"}}, \"type\": \"parcoords\"}], \"pie\": [{\"automargin\": true, \"type\": \"pie\"}], \"scatter\": [{\"marker\": {\"colorbar\": {\"outlinewidth\": 0, \"ticks\": \"\"}}, \"type\": \"scatter\"}], \"scatter3d\": [{\"line\": {\"colorbar\": {\"outlinewidth\": 0, \"ticks\": \"\"}}, \"marker\": {\"colorbar\": {\"outlinewidth\": 0, \"ticks\": \"\"}}, \"type\": \"scatter3d\"}], \"scattercarpet\": [{\"marker\": {\"colorbar\": {\"outlinewidth\": 0, \"ticks\": \"\"}}, \"type\": \"scattercarpet\"}], \"scattergeo\": [{\"marker\": {\"colorbar\": {\"outlinewidth\": 0, \"ticks\": \"\"}}, \"type\": \"scattergeo\"}], \"scattergl\": [{\"marker\": {\"colorbar\": {\"outlinewidth\": 0, \"ticks\": \"\"}}, \"type\": \"scattergl\"}], \"scattermapbox\": [{\"marker\": {\"colorbar\": {\"outlinewidth\": 0, \"ticks\": \"\"}}, \"type\": \"scattermapbox\"}], \"scatterpolar\": [{\"marker\": {\"colorbar\": {\"outlinewidth\": 0, \"ticks\": \"\"}}, \"type\": \"scatterpolar\"}], \"scatterpolargl\": [{\"marker\": {\"colorbar\": {\"outlinewidth\": 0, \"ticks\": \"\"}}, \"type\": \"scatterpolargl\"}], \"scatterternary\": [{\"marker\": {\"colorbar\": {\"outlinewidth\": 0, \"ticks\": \"\"}}, \"type\": \"scatterternary\"}], \"surface\": [{\"colorbar\": {\"outlinewidth\": 0, \"ticks\": \"\"}, \"colorscale\": [[0.0, \"#0d0887\"], [0.1111111111111111, \"#46039f\"], [0.2222222222222222, \"#7201a8\"], [0.3333333333333333, \"#9c179e\"], [0.4444444444444444, \"#bd3786\"], [0.5555555555555556, \"#d8576b\"], [0.6666666666666666, \"#ed7953\"], [0.7777777777777778, \"#fb9f3a\"], [0.8888888888888888, \"#fdca26\"], [1.0, \"#f0f921\"]], \"type\": \"surface\"}], \"table\": [{\"cells\": {\"fill\": {\"color\": \"#EBF0F8\"}, \"line\": {\"color\": \"white\"}}, \"header\": {\"fill\": {\"color\": \"#C8D4E3\"}, \"line\": {\"color\": \"white\"}}, \"type\": \"table\"}]}, \"layout\": {\"annotationdefaults\": {\"arrowcolor\": \"#2a3f5f\", \"arrowhead\": 0, \"arrowwidth\": 1}, \"coloraxis\": {\"colorbar\": {\"outlinewidth\": 0, \"ticks\": \"\"}}, \"colorscale\": {\"diverging\": [[0, \"#8e0152\"], [0.1, \"#c51b7d\"], [0.2, \"#de77ae\"], [0.3, \"#f1b6da\"], [0.4, \"#fde0ef\"], [0.5, \"#f7f7f7\"], [0.6, \"#e6f5d0\"], [0.7, \"#b8e186\"], [0.8, \"#7fbc41\"], [0.9, \"#4d9221\"], [1, \"#276419\"]], \"sequential\": [[0.0, \"#0d0887\"], [0.1111111111111111, \"#46039f\"], [0.2222222222222222, \"#7201a8\"], [0.3333333333333333, \"#9c179e\"], [0.4444444444444444, \"#bd3786\"], [0.5555555555555556, \"#d8576b\"], [0.6666666666666666, \"#ed7953\"], [0.7777777777777778, \"#fb9f3a\"], [0.8888888888888888, \"#fdca26\"], [1.0, \"#f0f921\"]], \"sequentialminus\": [[0.0, \"#0d0887\"], [0.1111111111111111, \"#46039f\"], [0.2222222222222222, \"#7201a8\"], [0.3333333333333333, \"#9c179e\"], [0.4444444444444444, \"#bd3786\"], [0.5555555555555556, \"#d8576b\"], [0.6666666666666666, \"#ed7953\"], [0.7777777777777778, \"#fb9f3a\"], [0.8888888888888888, \"#fdca26\"], [1.0, \"#f0f921\"]]}, \"colorway\": [\"#636efa\", \"#EF553B\", \"#00cc96\", \"#ab63fa\", \"#FFA15A\", \"#19d3f3\", \"#FF6692\", \"#B6E880\", \"#FF97FF\", \"#FECB52\"], \"font\": {\"color\": \"#2a3f5f\"}, \"geo\": {\"bgcolor\": \"white\", \"lakecolor\": \"white\", \"landcolor\": \"#E5ECF6\", \"showlakes\": true, \"showland\": true, \"subunitcolor\": \"white\"}, \"hoverlabel\": {\"align\": \"left\"}, \"hovermode\": \"closest\", \"mapbox\": {\"style\": \"light\"}, \"paper_bgcolor\": \"white\", \"plot_bgcolor\": \"#E5ECF6\", \"polar\": {\"angularaxis\": {\"gridcolor\": \"white\", \"linecolor\": \"white\", \"ticks\": \"\"}, \"bgcolor\": \"#E5ECF6\", \"radialaxis\": {\"gridcolor\": \"white\", \"linecolor\": \"white\", \"ticks\": \"\"}}, \"scene\": {\"xaxis\": {\"backgroundcolor\": \"#E5ECF6\", \"gridcolor\": \"white\", \"gridwidth\": 2, \"linecolor\": \"white\", \"showbackground\": true, \"ticks\": \"\", \"zerolinecolor\": \"white\"}, \"yaxis\": {\"backgroundcolor\": \"#E5ECF6\", \"gridcolor\": \"white\", \"gridwidth\": 2, \"linecolor\": \"white\", \"showbackground\": true, \"ticks\": \"\", \"zerolinecolor\": \"white\"}, \"zaxis\": {\"backgroundcolor\": \"#E5ECF6\", \"gridcolor\": \"white\", \"gridwidth\": 2, \"linecolor\": \"white\", \"showbackground\": true, \"ticks\": \"\", \"zerolinecolor\": \"white\"}}, \"shapedefaults\": {\"line\": {\"color\": \"#2a3f5f\"}}, \"ternary\": {\"aaxis\": {\"gridcolor\": \"white\", \"linecolor\": \"white\", \"ticks\": \"\"}, \"baxis\": {\"gridcolor\": \"white\", \"linecolor\": \"white\", \"ticks\": \"\"}, \"bgcolor\": \"#E5ECF6\", \"caxis\": {\"gridcolor\": \"white\", \"linecolor\": \"white\", \"ticks\": \"\"}}, \"title\": {\"x\": 0.05}, \"xaxis\": {\"automargin\": true, \"gridcolor\": \"white\", \"linecolor\": \"white\", \"ticks\": \"\", \"title\": {\"standoff\": 15}, \"zerolinecolor\": \"white\", \"zerolinewidth\": 2}, \"yaxis\": {\"automargin\": true, \"gridcolor\": \"white\", \"linecolor\": \"white\", \"ticks\": \"\", \"title\": {\"standoff\": 15}, \"zerolinecolor\": \"white\", \"zerolinewidth\": 2}}}, \"title\": {\"text\": \"Comparables for 728 June Lake Ln\"}},\n",
              "                        {\"responsive\": true}\n",
              "                    ).then(function(){\n",
              "                            \n",
              "var gd = document.getElementById('b21348f1-af3e-4b74-85c2-204c90401ecd');\n",
              "var x = new MutationObserver(function (mutations, observer) {{\n",
              "        var display = window.getComputedStyle(gd).display;\n",
              "        if (!display || display === 'none') {{\n",
              "            console.log([gd, 'removed!']);\n",
              "            Plotly.purge(gd);\n",
              "            observer.disconnect();\n",
              "        }}\n",
              "}});\n",
              "\n",
              "// Listen for the removal of the full notebook cells\n",
              "var notebookContainer = gd.closest('#notebook-container');\n",
              "if (notebookContainer) {{\n",
              "    x.observe(notebookContainer, {childList: true});\n",
              "}}\n",
              "\n",
              "// Listen for the clearing of the current output cell\n",
              "var outputEl = gd.closest('.output');\n",
              "if (outputEl) {{\n",
              "    x.observe(outputEl, {childList: true});\n",
              "}}\n",
              "\n",
              "                        })\n",
              "                };\n",
              "                \n",
              "            </script>\n",
              "        </div>\n",
              "</body>\n",
              "</html>"
            ]
          },
          "metadata": {
            "tags": []
          }
        }
      ]
    },
    {
      "cell_type": "markdown",
      "metadata": {
        "id": "A_2d61vS5_mI"
      },
      "source": [
        "# End Notebook"
      ]
    }
  ]
}